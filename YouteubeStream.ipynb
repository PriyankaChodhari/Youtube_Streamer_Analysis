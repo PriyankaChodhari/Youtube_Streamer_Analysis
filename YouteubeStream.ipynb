{
 "cells": [
  {
   "cell_type": "code",
   "execution_count": 1,
   "id": "dd604fb3-5dfe-4ebe-bd4a-8a6ba5b086ce",
   "metadata": {},
   "outputs": [],
   "source": [
    "import pandas as pd\n",
    "import numpy as np\n",
    "import matplotlib.pyplot as plt\n",
    "import seaborn as sns"
   ]
  },
  {
   "cell_type": "code",
   "execution_count": 5,
   "id": "072b2c56-2e16-4f5a-a7ef-17c960f41a50",
   "metadata": {},
   "outputs": [
    {
     "data": {
      "text/html": [
       "<div>\n",
       "<style scoped>\n",
       "    .dataframe tbody tr th:only-of-type {\n",
       "        vertical-align: middle;\n",
       "    }\n",
       "\n",
       "    .dataframe tbody tr th {\n",
       "        vertical-align: top;\n",
       "    }\n",
       "\n",
       "    .dataframe thead th {\n",
       "        text-align: right;\n",
       "    }\n",
       "</style>\n",
       "<table border=\"1\" class=\"dataframe\">\n",
       "  <thead>\n",
       "    <tr style=\"text-align: right;\">\n",
       "      <th></th>\n",
       "      <th>Rank</th>\n",
       "      <th>Username</th>\n",
       "      <th>Categories</th>\n",
       "      <th>Suscribers</th>\n",
       "      <th>Country</th>\n",
       "      <th>Visits</th>\n",
       "      <th>Likes</th>\n",
       "      <th>Comments</th>\n",
       "      <th>Links</th>\n",
       "    </tr>\n",
       "  </thead>\n",
       "  <tbody>\n",
       "    <tr>\n",
       "      <th>0</th>\n",
       "      <td>1</td>\n",
       "      <td>tseries</td>\n",
       "      <td>Música y baile</td>\n",
       "      <td>249500000.0</td>\n",
       "      <td>India</td>\n",
       "      <td>86200.0</td>\n",
       "      <td>2700.0</td>\n",
       "      <td>78.0</td>\n",
       "      <td>http://youtube.com/channel/UCq-Fj5jknLsUf-MWSy...</td>\n",
       "    </tr>\n",
       "    <tr>\n",
       "      <th>1</th>\n",
       "      <td>2</td>\n",
       "      <td>MrBeast</td>\n",
       "      <td>Videojuegos, Humor</td>\n",
       "      <td>183500000.0</td>\n",
       "      <td>Estados Unidos</td>\n",
       "      <td>117400000.0</td>\n",
       "      <td>5300000.0</td>\n",
       "      <td>18500.0</td>\n",
       "      <td>http://youtube.com/channel/UCX6OQ3DkcsbYNE6H8u...</td>\n",
       "    </tr>\n",
       "    <tr>\n",
       "      <th>2</th>\n",
       "      <td>3</td>\n",
       "      <td>CoComelon</td>\n",
       "      <td>Educación</td>\n",
       "      <td>165500000.0</td>\n",
       "      <td>Unknown</td>\n",
       "      <td>7000000.0</td>\n",
       "      <td>24700.0</td>\n",
       "      <td>0.0</td>\n",
       "      <td>http://youtube.com/channel/UCbCmjCuTUZos6Inko4...</td>\n",
       "    </tr>\n",
       "    <tr>\n",
       "      <th>3</th>\n",
       "      <td>4</td>\n",
       "      <td>SETIndia</td>\n",
       "      <td>NaN</td>\n",
       "      <td>162600000.0</td>\n",
       "      <td>India</td>\n",
       "      <td>15600.0</td>\n",
       "      <td>166.0</td>\n",
       "      <td>9.0</td>\n",
       "      <td>http://youtube.com/channel/UCpEhnqL0y41EpW2TvW...</td>\n",
       "    </tr>\n",
       "    <tr>\n",
       "      <th>4</th>\n",
       "      <td>5</td>\n",
       "      <td>KidsDianaShow</td>\n",
       "      <td>Animación, Juguetes</td>\n",
       "      <td>113500000.0</td>\n",
       "      <td>Unknown</td>\n",
       "      <td>3900000.0</td>\n",
       "      <td>12400.0</td>\n",
       "      <td>0.0</td>\n",
       "      <td>http://youtube.com/channel/UCk8GzjMOrta8yxDcKf...</td>\n",
       "    </tr>\n",
       "    <tr>\n",
       "      <th>...</th>\n",
       "      <td>...</td>\n",
       "      <td>...</td>\n",
       "      <td>...</td>\n",
       "      <td>...</td>\n",
       "      <td>...</td>\n",
       "      <td>...</td>\n",
       "      <td>...</td>\n",
       "      <td>...</td>\n",
       "      <td>...</td>\n",
       "    </tr>\n",
       "    <tr>\n",
       "      <th>995</th>\n",
       "      <td>996</td>\n",
       "      <td>hamzymukbang</td>\n",
       "      <td>NaN</td>\n",
       "      <td>11700000.0</td>\n",
       "      <td>Estados Unidos</td>\n",
       "      <td>397400.0</td>\n",
       "      <td>14000.0</td>\n",
       "      <td>124.0</td>\n",
       "      <td>http://youtube.com/channel/UCPKNKldggioffXPkSm...</td>\n",
       "    </tr>\n",
       "    <tr>\n",
       "      <th>996</th>\n",
       "      <td>997</td>\n",
       "      <td>Adaahqueen</td>\n",
       "      <td>NaN</td>\n",
       "      <td>11700000.0</td>\n",
       "      <td>India</td>\n",
       "      <td>1100000.0</td>\n",
       "      <td>92500.0</td>\n",
       "      <td>164.0</td>\n",
       "      <td>http://youtube.com/channel/UCk3fFpqI5kDMf__mUP...</td>\n",
       "    </tr>\n",
       "    <tr>\n",
       "      <th>997</th>\n",
       "      <td>998</td>\n",
       "      <td>LittleAngelIndonesia</td>\n",
       "      <td>Música y baile</td>\n",
       "      <td>11700000.0</td>\n",
       "      <td>Unknown</td>\n",
       "      <td>211400.0</td>\n",
       "      <td>745.0</td>\n",
       "      <td>0.0</td>\n",
       "      <td>http://youtube.com/channel/UCdrHrQf0o0TO8YDntX...</td>\n",
       "    </tr>\n",
       "    <tr>\n",
       "      <th>998</th>\n",
       "      <td>999</td>\n",
       "      <td>PenMultiplex</td>\n",
       "      <td>NaN</td>\n",
       "      <td>11700000.0</td>\n",
       "      <td>India</td>\n",
       "      <td>14000.0</td>\n",
       "      <td>81.0</td>\n",
       "      <td>1.0</td>\n",
       "      <td>http://youtube.com/channel/UCObyBrdrtQ20BU9PxH...</td>\n",
       "    </tr>\n",
       "    <tr>\n",
       "      <th>999</th>\n",
       "      <td>1000</td>\n",
       "      <td>OneindiaHindi</td>\n",
       "      <td>Noticias y Política</td>\n",
       "      <td>11700000.0</td>\n",
       "      <td>India</td>\n",
       "      <td>2200.0</td>\n",
       "      <td>31.0</td>\n",
       "      <td>1.0</td>\n",
       "      <td>http://youtube.com/channel/UCOjgc1p2hJ4GZi6pQQ...</td>\n",
       "    </tr>\n",
       "  </tbody>\n",
       "</table>\n",
       "<p>1000 rows × 9 columns</p>\n",
       "</div>"
      ],
      "text/plain": [
       "     Rank              Username           Categories   Suscribers  \\\n",
       "0       1               tseries       Música y baile  249500000.0   \n",
       "1       2               MrBeast   Videojuegos, Humor  183500000.0   \n",
       "2       3             CoComelon            Educación  165500000.0   \n",
       "3       4              SETIndia                  NaN  162600000.0   \n",
       "4       5         KidsDianaShow  Animación, Juguetes  113500000.0   \n",
       "..    ...                   ...                  ...          ...   \n",
       "995   996          hamzymukbang                  NaN   11700000.0   \n",
       "996   997            Adaahqueen                  NaN   11700000.0   \n",
       "997   998  LittleAngelIndonesia       Música y baile   11700000.0   \n",
       "998   999          PenMultiplex                  NaN   11700000.0   \n",
       "999  1000         OneindiaHindi  Noticias y Política   11700000.0   \n",
       "\n",
       "            Country       Visits      Likes  Comments  \\\n",
       "0             India      86200.0     2700.0      78.0   \n",
       "1    Estados Unidos  117400000.0  5300000.0   18500.0   \n",
       "2           Unknown    7000000.0    24700.0       0.0   \n",
       "3             India      15600.0      166.0       9.0   \n",
       "4           Unknown    3900000.0    12400.0       0.0   \n",
       "..              ...          ...        ...       ...   \n",
       "995  Estados Unidos     397400.0    14000.0     124.0   \n",
       "996           India    1100000.0    92500.0     164.0   \n",
       "997         Unknown     211400.0      745.0       0.0   \n",
       "998           India      14000.0       81.0       1.0   \n",
       "999           India       2200.0       31.0       1.0   \n",
       "\n",
       "                                                 Links  \n",
       "0    http://youtube.com/channel/UCq-Fj5jknLsUf-MWSy...  \n",
       "1    http://youtube.com/channel/UCX6OQ3DkcsbYNE6H8u...  \n",
       "2    http://youtube.com/channel/UCbCmjCuTUZos6Inko4...  \n",
       "3    http://youtube.com/channel/UCpEhnqL0y41EpW2TvW...  \n",
       "4    http://youtube.com/channel/UCk8GzjMOrta8yxDcKf...  \n",
       "..                                                 ...  \n",
       "995  http://youtube.com/channel/UCPKNKldggioffXPkSm...  \n",
       "996  http://youtube.com/channel/UCk3fFpqI5kDMf__mUP...  \n",
       "997  http://youtube.com/channel/UCdrHrQf0o0TO8YDntX...  \n",
       "998  http://youtube.com/channel/UCObyBrdrtQ20BU9PxH...  \n",
       "999  http://youtube.com/channel/UCOjgc1p2hJ4GZi6pQQ...  \n",
       "\n",
       "[1000 rows x 9 columns]"
      ]
     },
     "execution_count": 5,
     "metadata": {},
     "output_type": "execute_result"
    }
   ],
   "source": [
    "df = pd.read_csv('youtubers_df.csv')\n",
    "df"
   ]
  },
  {
   "cell_type": "code",
   "execution_count": 6,
   "id": "1e48e4fb-9d52-4ec3-a71a-6a07a7265319",
   "metadata": {},
   "outputs": [
    {
     "data": {
      "text/html": [
       "<div>\n",
       "<style scoped>\n",
       "    .dataframe tbody tr th:only-of-type {\n",
       "        vertical-align: middle;\n",
       "    }\n",
       "\n",
       "    .dataframe tbody tr th {\n",
       "        vertical-align: top;\n",
       "    }\n",
       "\n",
       "    .dataframe thead th {\n",
       "        text-align: right;\n",
       "    }\n",
       "</style>\n",
       "<table border=\"1\" class=\"dataframe\">\n",
       "  <thead>\n",
       "    <tr style=\"text-align: right;\">\n",
       "      <th></th>\n",
       "      <th>Rank</th>\n",
       "      <th>Username</th>\n",
       "      <th>Categories</th>\n",
       "      <th>Suscribers</th>\n",
       "      <th>Country</th>\n",
       "      <th>Visits</th>\n",
       "      <th>Likes</th>\n",
       "      <th>Comments</th>\n",
       "      <th>Links</th>\n",
       "    </tr>\n",
       "  </thead>\n",
       "  <tbody>\n",
       "    <tr>\n",
       "      <th>0</th>\n",
       "      <td>1</td>\n",
       "      <td>tseries</td>\n",
       "      <td>Música y baile</td>\n",
       "      <td>249500000.0</td>\n",
       "      <td>India</td>\n",
       "      <td>86200.0</td>\n",
       "      <td>2700.0</td>\n",
       "      <td>78.0</td>\n",
       "      <td>http://youtube.com/channel/UCq-Fj5jknLsUf-MWSy...</td>\n",
       "    </tr>\n",
       "    <tr>\n",
       "      <th>1</th>\n",
       "      <td>2</td>\n",
       "      <td>MrBeast</td>\n",
       "      <td>Videojuegos, Humor</td>\n",
       "      <td>183500000.0</td>\n",
       "      <td>Estados Unidos</td>\n",
       "      <td>117400000.0</td>\n",
       "      <td>5300000.0</td>\n",
       "      <td>18500.0</td>\n",
       "      <td>http://youtube.com/channel/UCX6OQ3DkcsbYNE6H8u...</td>\n",
       "    </tr>\n",
       "    <tr>\n",
       "      <th>2</th>\n",
       "      <td>3</td>\n",
       "      <td>CoComelon</td>\n",
       "      <td>Educación</td>\n",
       "      <td>165500000.0</td>\n",
       "      <td>Unknown</td>\n",
       "      <td>7000000.0</td>\n",
       "      <td>24700.0</td>\n",
       "      <td>0.0</td>\n",
       "      <td>http://youtube.com/channel/UCbCmjCuTUZos6Inko4...</td>\n",
       "    </tr>\n",
       "    <tr>\n",
       "      <th>3</th>\n",
       "      <td>4</td>\n",
       "      <td>SETIndia</td>\n",
       "      <td>NaN</td>\n",
       "      <td>162600000.0</td>\n",
       "      <td>India</td>\n",
       "      <td>15600.0</td>\n",
       "      <td>166.0</td>\n",
       "      <td>9.0</td>\n",
       "      <td>http://youtube.com/channel/UCpEhnqL0y41EpW2TvW...</td>\n",
       "    </tr>\n",
       "    <tr>\n",
       "      <th>4</th>\n",
       "      <td>5</td>\n",
       "      <td>KidsDianaShow</td>\n",
       "      <td>Animación, Juguetes</td>\n",
       "      <td>113500000.0</td>\n",
       "      <td>Unknown</td>\n",
       "      <td>3900000.0</td>\n",
       "      <td>12400.0</td>\n",
       "      <td>0.0</td>\n",
       "      <td>http://youtube.com/channel/UCk8GzjMOrta8yxDcKf...</td>\n",
       "    </tr>\n",
       "  </tbody>\n",
       "</table>\n",
       "</div>"
      ],
      "text/plain": [
       "   Rank       Username           Categories   Suscribers         Country  \\\n",
       "0     1        tseries       Música y baile  249500000.0           India   \n",
       "1     2        MrBeast   Videojuegos, Humor  183500000.0  Estados Unidos   \n",
       "2     3      CoComelon            Educación  165500000.0         Unknown   \n",
       "3     4       SETIndia                  NaN  162600000.0           India   \n",
       "4     5  KidsDianaShow  Animación, Juguetes  113500000.0         Unknown   \n",
       "\n",
       "        Visits      Likes  Comments  \\\n",
       "0      86200.0     2700.0      78.0   \n",
       "1  117400000.0  5300000.0   18500.0   \n",
       "2    7000000.0    24700.0       0.0   \n",
       "3      15600.0      166.0       9.0   \n",
       "4    3900000.0    12400.0       0.0   \n",
       "\n",
       "                                               Links  \n",
       "0  http://youtube.com/channel/UCq-Fj5jknLsUf-MWSy...  \n",
       "1  http://youtube.com/channel/UCX6OQ3DkcsbYNE6H8u...  \n",
       "2  http://youtube.com/channel/UCbCmjCuTUZos6Inko4...  \n",
       "3  http://youtube.com/channel/UCpEhnqL0y41EpW2TvW...  \n",
       "4  http://youtube.com/channel/UCk8GzjMOrta8yxDcKf...  "
      ]
     },
     "execution_count": 6,
     "metadata": {},
     "output_type": "execute_result"
    }
   ],
   "source": [
    "df.head()"
   ]
  },
  {
   "cell_type": "code",
   "execution_count": 7,
   "id": "ac10b9c0-aaec-4c56-bf1d-9d08e93b467a",
   "metadata": {},
   "outputs": [
    {
     "data": {
      "text/html": [
       "<div>\n",
       "<style scoped>\n",
       "    .dataframe tbody tr th:only-of-type {\n",
       "        vertical-align: middle;\n",
       "    }\n",
       "\n",
       "    .dataframe tbody tr th {\n",
       "        vertical-align: top;\n",
       "    }\n",
       "\n",
       "    .dataframe thead th {\n",
       "        text-align: right;\n",
       "    }\n",
       "</style>\n",
       "<table border=\"1\" class=\"dataframe\">\n",
       "  <thead>\n",
       "    <tr style=\"text-align: right;\">\n",
       "      <th></th>\n",
       "      <th>Rank</th>\n",
       "      <th>Suscribers</th>\n",
       "      <th>Visits</th>\n",
       "      <th>Likes</th>\n",
       "      <th>Comments</th>\n",
       "    </tr>\n",
       "  </thead>\n",
       "  <tbody>\n",
       "    <tr>\n",
       "      <th>count</th>\n",
       "      <td>1000.000000</td>\n",
       "      <td>1.000000e+03</td>\n",
       "      <td>1.000000e+03</td>\n",
       "      <td>1.000000e+03</td>\n",
       "      <td>1000.000000</td>\n",
       "    </tr>\n",
       "    <tr>\n",
       "      <th>mean</th>\n",
       "      <td>500.500000</td>\n",
       "      <td>2.189440e+07</td>\n",
       "      <td>1.209446e+06</td>\n",
       "      <td>5.363259e+04</td>\n",
       "      <td>1288.768000</td>\n",
       "    </tr>\n",
       "    <tr>\n",
       "      <th>std</th>\n",
       "      <td>288.819436</td>\n",
       "      <td>1.682775e+07</td>\n",
       "      <td>5.229942e+06</td>\n",
       "      <td>2.580457e+05</td>\n",
       "      <td>6778.188308</td>\n",
       "    </tr>\n",
       "    <tr>\n",
       "      <th>min</th>\n",
       "      <td>1.000000</td>\n",
       "      <td>1.170000e+07</td>\n",
       "      <td>0.000000e+00</td>\n",
       "      <td>0.000000e+00</td>\n",
       "      <td>0.000000</td>\n",
       "    </tr>\n",
       "    <tr>\n",
       "      <th>25%</th>\n",
       "      <td>250.750000</td>\n",
       "      <td>1.380000e+07</td>\n",
       "      <td>3.197500e+04</td>\n",
       "      <td>4.717500e+02</td>\n",
       "      <td>2.000000</td>\n",
       "    </tr>\n",
       "    <tr>\n",
       "      <th>50%</th>\n",
       "      <td>500.500000</td>\n",
       "      <td>1.675000e+07</td>\n",
       "      <td>1.744500e+05</td>\n",
       "      <td>3.500000e+03</td>\n",
       "      <td>67.000000</td>\n",
       "    </tr>\n",
       "    <tr>\n",
       "      <th>75%</th>\n",
       "      <td>750.250000</td>\n",
       "      <td>2.370000e+07</td>\n",
       "      <td>8.654750e+05</td>\n",
       "      <td>2.865000e+04</td>\n",
       "      <td>472.000000</td>\n",
       "    </tr>\n",
       "    <tr>\n",
       "      <th>max</th>\n",
       "      <td>1000.000000</td>\n",
       "      <td>2.495000e+08</td>\n",
       "      <td>1.174000e+08</td>\n",
       "      <td>5.300000e+06</td>\n",
       "      <td>154000.000000</td>\n",
       "    </tr>\n",
       "  </tbody>\n",
       "</table>\n",
       "</div>"
      ],
      "text/plain": [
       "              Rank    Suscribers        Visits         Likes       Comments\n",
       "count  1000.000000  1.000000e+03  1.000000e+03  1.000000e+03    1000.000000\n",
       "mean    500.500000  2.189440e+07  1.209446e+06  5.363259e+04    1288.768000\n",
       "std     288.819436  1.682775e+07  5.229942e+06  2.580457e+05    6778.188308\n",
       "min       1.000000  1.170000e+07  0.000000e+00  0.000000e+00       0.000000\n",
       "25%     250.750000  1.380000e+07  3.197500e+04  4.717500e+02       2.000000\n",
       "50%     500.500000  1.675000e+07  1.744500e+05  3.500000e+03      67.000000\n",
       "75%     750.250000  2.370000e+07  8.654750e+05  2.865000e+04     472.000000\n",
       "max    1000.000000  2.495000e+08  1.174000e+08  5.300000e+06  154000.000000"
      ]
     },
     "execution_count": 7,
     "metadata": {},
     "output_type": "execute_result"
    }
   ],
   "source": [
    "df.describe()"
   ]
  },
  {
   "cell_type": "code",
   "execution_count": 28,
   "id": "2b58eb69-bf65-4a05-b4bf-bd32a3fc8849",
   "metadata": {},
   "outputs": [
    {
     "name": "stdout",
     "output_type": "stream",
     "text": [
      "<class 'pandas.core.frame.DataFrame'>\n",
      "RangeIndex: 1000 entries, 0 to 999\n",
      "Data columns (total 9 columns):\n",
      " #   Column      Non-Null Count  Dtype  \n",
      "---  ------      --------------  -----  \n",
      " 0   Rank        1000 non-null   int64  \n",
      " 1   Username    1000 non-null   object \n",
      " 2   Categories  694 non-null    object \n",
      " 3   Suscribers  1000 non-null   float64\n",
      " 4   Country     1000 non-null   object \n",
      " 5   Visits      1000 non-null   float64\n",
      " 6   Likes       1000 non-null   float64\n",
      " 7   Comments    1000 non-null   float64\n",
      " 8   Links       1000 non-null   object \n",
      "dtypes: float64(4), int64(1), object(4)\n",
      "memory usage: 70.4+ KB\n"
     ]
    }
   ],
   "source": [
    "df.info()"
   ]
  },
  {
   "cell_type": "code",
   "execution_count": 30,
   "id": "8e755408-c5fb-4b3f-b0c9-4e8b130c7592",
   "metadata": {},
   "outputs": [
    {
     "data": {
      "text/plain": [
       "Rank            int64\n",
       "Username       object\n",
       "Categories     object\n",
       "Suscribers    float64\n",
       "Country        object\n",
       "Visits        float64\n",
       "Likes         float64\n",
       "Comments      float64\n",
       "Links          object\n",
       "dtype: object"
      ]
     },
     "execution_count": 30,
     "metadata": {},
     "output_type": "execute_result"
    }
   ],
   "source": [
    "df.dtypes"
   ]
  },
  {
   "cell_type": "code",
   "execution_count": 35,
   "id": "058255bf-c18c-43f6-ab8e-5bca0207e765",
   "metadata": {},
   "outputs": [
    {
     "data": {
      "text/plain": [
       "Rank            int64\n",
       "Username       object\n",
       "Categories     object\n",
       "Suscribers    float64\n",
       "Country        object\n",
       "Visits        float64\n",
       "Likes         float64\n",
       "Comments      float64\n",
       "Links          object\n",
       "dtype: object"
      ]
     },
     "execution_count": 35,
     "metadata": {},
     "output_type": "execute_result"
    }
   ],
   "source": [
    "df[['Suscribers','Visits','Likes','Comments']] = df[['Suscribers', 'Visits','Likes','Comments']]\n",
    "df.dtypes\n"
   ]
  },
  {
   "cell_type": "code",
   "execution_count": 72,
   "id": "47f680dc-69c6-4034-84a5-3bec30a0e26f",
   "metadata": {},
   "outputs": [],
   "source": [
    "df.rename(columns={'Suscribers':'Subscribers'},inplace=True)\n",
    "df.rename(columns={'Username':'Streamer'},inplace=True)"
   ]
  },
  {
   "cell_type": "code",
   "execution_count": 74,
   "id": "19c1efa1-c603-46cc-9fe5-d9163c4ec998",
   "metadata": {},
   "outputs": [
    {
     "data": {
      "text/plain": [
       "Rank             0\n",
       "Streamer         0\n",
       "Categories     306\n",
       "Subscribers      0\n",
       "Country          0\n",
       "Visits           0\n",
       "Likes            0\n",
       "Comments         0\n",
       "Links            0\n",
       "dtype: int64"
      ]
     },
     "execution_count": 74,
     "metadata": {},
     "output_type": "execute_result"
    }
   ],
   "source": [
    "df.isnull().sum()"
   ]
  },
  {
   "cell_type": "code",
   "execution_count": 75,
   "id": "90cb9743-52b8-49c3-a2e5-8796c8699f21",
   "metadata": {},
   "outputs": [
    {
     "data": {
      "text/html": [
       "<div>\n",
       "<style scoped>\n",
       "    .dataframe tbody tr th:only-of-type {\n",
       "        vertical-align: middle;\n",
       "    }\n",
       "\n",
       "    .dataframe tbody tr th {\n",
       "        vertical-align: top;\n",
       "    }\n",
       "\n",
       "    .dataframe thead th {\n",
       "        text-align: right;\n",
       "    }\n",
       "</style>\n",
       "<table border=\"1\" class=\"dataframe\">\n",
       "  <thead>\n",
       "    <tr style=\"text-align: right;\">\n",
       "      <th></th>\n",
       "      <th>Rank</th>\n",
       "      <th>Streamer</th>\n",
       "      <th>Categories</th>\n",
       "      <th>Subscribers</th>\n",
       "      <th>Country</th>\n",
       "      <th>Visits</th>\n",
       "      <th>Likes</th>\n",
       "      <th>Comments</th>\n",
       "      <th>Links</th>\n",
       "    </tr>\n",
       "  </thead>\n",
       "  <tbody>\n",
       "    <tr>\n",
       "      <th>0</th>\n",
       "      <td>1</td>\n",
       "      <td>tseries</td>\n",
       "      <td>Música y baile</td>\n",
       "      <td>249500000.0</td>\n",
       "      <td>India</td>\n",
       "      <td>86200.0</td>\n",
       "      <td>2700.0</td>\n",
       "      <td>78.0</td>\n",
       "      <td>http://youtube.com/channel/UCq-Fj5jknLsUf-MWSy...</td>\n",
       "    </tr>\n",
       "    <tr>\n",
       "      <th>1</th>\n",
       "      <td>2</td>\n",
       "      <td>MrBeast</td>\n",
       "      <td>Videojuegos, Humor</td>\n",
       "      <td>183500000.0</td>\n",
       "      <td>Estados Unidos</td>\n",
       "      <td>117400000.0</td>\n",
       "      <td>5300000.0</td>\n",
       "      <td>18500.0</td>\n",
       "      <td>http://youtube.com/channel/UCX6OQ3DkcsbYNE6H8u...</td>\n",
       "    </tr>\n",
       "    <tr>\n",
       "      <th>2</th>\n",
       "      <td>3</td>\n",
       "      <td>CoComelon</td>\n",
       "      <td>Educación</td>\n",
       "      <td>165500000.0</td>\n",
       "      <td>Unknown</td>\n",
       "      <td>7000000.0</td>\n",
       "      <td>24700.0</td>\n",
       "      <td>0.0</td>\n",
       "      <td>http://youtube.com/channel/UCbCmjCuTUZos6Inko4...</td>\n",
       "    </tr>\n",
       "    <tr>\n",
       "      <th>3</th>\n",
       "      <td>4</td>\n",
       "      <td>SETIndia</td>\n",
       "      <td>NaN</td>\n",
       "      <td>162600000.0</td>\n",
       "      <td>India</td>\n",
       "      <td>15600.0</td>\n",
       "      <td>166.0</td>\n",
       "      <td>9.0</td>\n",
       "      <td>http://youtube.com/channel/UCpEhnqL0y41EpW2TvW...</td>\n",
       "    </tr>\n",
       "    <tr>\n",
       "      <th>4</th>\n",
       "      <td>5</td>\n",
       "      <td>KidsDianaShow</td>\n",
       "      <td>Animación, Juguetes</td>\n",
       "      <td>113500000.0</td>\n",
       "      <td>Unknown</td>\n",
       "      <td>3900000.0</td>\n",
       "      <td>12400.0</td>\n",
       "      <td>0.0</td>\n",
       "      <td>http://youtube.com/channel/UCk8GzjMOrta8yxDcKf...</td>\n",
       "    </tr>\n",
       "  </tbody>\n",
       "</table>\n",
       "</div>"
      ],
      "text/plain": [
       "   Rank       Streamer           Categories  Subscribers         Country  \\\n",
       "0     1        tseries       Música y baile  249500000.0           India   \n",
       "1     2        MrBeast   Videojuegos, Humor  183500000.0  Estados Unidos   \n",
       "2     3      CoComelon            Educación  165500000.0         Unknown   \n",
       "3     4       SETIndia                  NaN  162600000.0           India   \n",
       "4     5  KidsDianaShow  Animación, Juguetes  113500000.0         Unknown   \n",
       "\n",
       "        Visits      Likes  Comments  \\\n",
       "0      86200.0     2700.0      78.0   \n",
       "1  117400000.0  5300000.0   18500.0   \n",
       "2    7000000.0    24700.0       0.0   \n",
       "3      15600.0      166.0       9.0   \n",
       "4    3900000.0    12400.0       0.0   \n",
       "\n",
       "                                               Links  \n",
       "0  http://youtube.com/channel/UCq-Fj5jknLsUf-MWSy...  \n",
       "1  http://youtube.com/channel/UCX6OQ3DkcsbYNE6H8u...  \n",
       "2  http://youtube.com/channel/UCbCmjCuTUZos6Inko4...  \n",
       "3  http://youtube.com/channel/UCpEhnqL0y41EpW2TvW...  \n",
       "4  http://youtube.com/channel/UCk8GzjMOrta8yxDcKf...  "
      ]
     },
     "execution_count": 75,
     "metadata": {},
     "output_type": "execute_result"
    }
   ],
   "source": [
    "df.head()"
   ]
  },
  {
   "cell_type": "code",
   "execution_count": 76,
   "id": "98601d95-51da-44e8-b0a9-3c92a979bd0a",
   "metadata": {},
   "outputs": [
    {
     "data": {
      "text/plain": [
       "Streamer\n",
       "tseries          249500000.0\n",
       "MrBeast          183500000.0\n",
       "CoComelon        165500000.0\n",
       "SETIndia         162600000.0\n",
       "KidsDianaShow    113500000.0\n",
       "Name: Subscribers, dtype: float64"
      ]
     },
     "execution_count": 76,
     "metadata": {},
     "output_type": "execute_result"
    }
   ],
   "source": [
    "df.groupby('Streamer')['Subscribers'].sum().sort_values(ascending=False).head(5)"
   ]
  },
  {
   "cell_type": "code",
   "execution_count": 77,
   "id": "54db4497-7f49-420f-9418-f6b64b42e89d",
   "metadata": {},
   "outputs": [
    {
     "data": {
      "text/plain": [
       "Streamer\n",
       "tseries               249500000.0\n",
       "MrBeast               183500000.0\n",
       "CoComelon             165500000.0\n",
       "SETIndia              162600000.0\n",
       "KidsDianaShow         113500000.0\n",
       "PewDiePie             111500000.0\n",
       "LikeNastyaofficial    107500000.0\n",
       "VladandNiki           101400000.0\n",
       "zeemusiccompany        99700000.0\n",
       "WWE                    97200000.0\n",
       "Name: Subscribers, dtype: float64"
      ]
     },
     "execution_count": 77,
     "metadata": {},
     "output_type": "execute_result"
    }
   ],
   "source": [
    "df.groupby('Streamer')['Subscribers'].sum().sort_values(ascending=False).head(10)"
   ]
  },
  {
   "cell_type": "code",
   "execution_count": 78,
   "id": "b59606a0-bd3b-4889-9982-ccb1d3202f46",
   "metadata": {},
   "outputs": [
    {
     "data": {
      "text/plain": [
       "Categories\n",
       "Música y baile               160\n",
       "Películas, Animación          61\n",
       "Música y baile, Películas     41\n",
       "Vlogs diarios                 37\n",
       "Noticias y Política           36\n",
       "Películas, Humor              34\n",
       "Animación, Videojuegos        34\n",
       "Animación, Juguetes           29\n",
       "Animación, Humor              27\n",
       "Películas                     24\n",
       "Educación                     24\n",
       "Animación                     22\n",
       "Videojuegos                   19\n",
       "Videojuegos, Humor            17\n",
       "Música y baile, Animación     16\n",
       "Name: count, dtype: int64"
      ]
     },
     "execution_count": 78,
     "metadata": {},
     "output_type": "execute_result"
    }
   ],
   "source": [
    "df['Categories'].value_counts().sort_values(ascending=False).head(15)"
   ]
  },
  {
   "cell_type": "code",
   "execution_count": 79,
   "id": "0b6c9af3-745a-4fc6-9786-fbc3b14bc176",
   "metadata": {},
   "outputs": [
    {
     "data": {
      "text/html": [
       "<div>\n",
       "<style scoped>\n",
       "    .dataframe tbody tr th:only-of-type {\n",
       "        vertical-align: middle;\n",
       "    }\n",
       "\n",
       "    .dataframe tbody tr th {\n",
       "        vertical-align: top;\n",
       "    }\n",
       "\n",
       "    .dataframe thead th {\n",
       "        text-align: right;\n",
       "    }\n",
       "</style>\n",
       "<table border=\"1\" class=\"dataframe\">\n",
       "  <thead>\n",
       "    <tr style=\"text-align: right;\">\n",
       "      <th></th>\n",
       "      <th>Subscribers</th>\n",
       "      <th>Likes</th>\n",
       "      <th>Comments</th>\n",
       "    </tr>\n",
       "  </thead>\n",
       "  <tbody>\n",
       "    <tr>\n",
       "      <th>Subscribers</th>\n",
       "      <td>1.000000</td>\n",
       "      <td>0.211639</td>\n",
       "      <td>0.036350</td>\n",
       "    </tr>\n",
       "    <tr>\n",
       "      <th>Likes</th>\n",
       "      <td>0.211639</td>\n",
       "      <td>1.000000</td>\n",
       "      <td>0.325911</td>\n",
       "    </tr>\n",
       "    <tr>\n",
       "      <th>Comments</th>\n",
       "      <td>0.036350</td>\n",
       "      <td>0.325911</td>\n",
       "      <td>1.000000</td>\n",
       "    </tr>\n",
       "  </tbody>\n",
       "</table>\n",
       "</div>"
      ],
      "text/plain": [
       "             Subscribers     Likes  Comments\n",
       "Subscribers     1.000000  0.211639  0.036350\n",
       "Likes           0.211639  1.000000  0.325911\n",
       "Comments        0.036350  0.325911  1.000000"
      ]
     },
     "execution_count": 79,
     "metadata": {},
     "output_type": "execute_result"
    }
   ],
   "source": [
    "correlation_matrix = df[['Subscribers','Likes','Comments']].corr()\n",
    "correlation_matrix"
   ]
  },
  {
   "cell_type": "code",
   "execution_count": 81,
   "id": "500c297d-87c2-4f1c-9795-dde4453ac7d5",
   "metadata": {},
   "outputs": [
    {
     "data": {
      "text/plain": [
       "Country         Streamer            Categories            \n",
       "India           tseries             Música y baile            249500000.0\n",
       "Estados Unidos  MrBeast             Videojuegos, Humor        183500000.0\n",
       "Unknown         CoComelon           Educación                 165500000.0\n",
       "                KidsDianaShow       Animación, Juguetes       113500000.0\n",
       "Estados Unidos  PewDiePie           Películas, Videojuegos    111500000.0\n",
       "Unknown         LikeNastyaofficial  Juguetes                  107500000.0\n",
       "                VladandNiki         Animación, Juguetes       101400000.0\n",
       "India           zeemusiccompany     Música y baile             99700000.0\n",
       "Estados Unidos  WWE                 Videojuegos                97200000.0\n",
       "                BLACKPINK           Música y baile             91300000.0\n",
       "Name: Subscribers, dtype: float64"
      ]
     },
     "execution_count": 81,
     "metadata": {},
     "output_type": "execute_result"
    }
   ],
   "source": [
    "df.groupby([\"Country\",\"Streamer\",\"Categories\"])[\"Subscribers\"].sum().sort_values(ascending=False).head(10)"
   ]
  },
  {
   "cell_type": "code",
   "execution_count": 82,
   "id": "0dc4e630-0f56-4092-8c2a-52f3e055cf19",
   "metadata": {},
   "outputs": [
    {
     "data": {
      "text/html": [
       "<div>\n",
       "<style scoped>\n",
       "    .dataframe tbody tr th:only-of-type {\n",
       "        vertical-align: middle;\n",
       "    }\n",
       "\n",
       "    .dataframe tbody tr th {\n",
       "        vertical-align: top;\n",
       "    }\n",
       "\n",
       "    .dataframe thead th {\n",
       "        text-align: right;\n",
       "    }\n",
       "</style>\n",
       "<table border=\"1\" class=\"dataframe\">\n",
       "  <thead>\n",
       "    <tr style=\"text-align: right;\">\n",
       "      <th></th>\n",
       "      <th>Rank</th>\n",
       "      <th>Streamer</th>\n",
       "      <th>Categories</th>\n",
       "      <th>Subscribers</th>\n",
       "      <th>Country</th>\n",
       "      <th>Visits</th>\n",
       "      <th>Likes</th>\n",
       "      <th>Comments</th>\n",
       "      <th>Links</th>\n",
       "    </tr>\n",
       "  </thead>\n",
       "  <tbody>\n",
       "    <tr>\n",
       "      <th>0</th>\n",
       "      <td>1</td>\n",
       "      <td>tseries</td>\n",
       "      <td>Música y baile</td>\n",
       "      <td>249500000.0</td>\n",
       "      <td>India</td>\n",
       "      <td>86200.0</td>\n",
       "      <td>2700.0</td>\n",
       "      <td>78.0</td>\n",
       "      <td>http://youtube.com/channel/UCq-Fj5jknLsUf-MWSy...</td>\n",
       "    </tr>\n",
       "    <tr>\n",
       "      <th>1</th>\n",
       "      <td>2</td>\n",
       "      <td>MrBeast</td>\n",
       "      <td>Videojuegos, Humor</td>\n",
       "      <td>183500000.0</td>\n",
       "      <td>Estados Unidos</td>\n",
       "      <td>117400000.0</td>\n",
       "      <td>5300000.0</td>\n",
       "      <td>18500.0</td>\n",
       "      <td>http://youtube.com/channel/UCX6OQ3DkcsbYNE6H8u...</td>\n",
       "    </tr>\n",
       "    <tr>\n",
       "      <th>2</th>\n",
       "      <td>3</td>\n",
       "      <td>CoComelon</td>\n",
       "      <td>Educación</td>\n",
       "      <td>165500000.0</td>\n",
       "      <td>Unknown</td>\n",
       "      <td>7000000.0</td>\n",
       "      <td>24700.0</td>\n",
       "      <td>0.0</td>\n",
       "      <td>http://youtube.com/channel/UCbCmjCuTUZos6Inko4...</td>\n",
       "    </tr>\n",
       "    <tr>\n",
       "      <th>3</th>\n",
       "      <td>4</td>\n",
       "      <td>SETIndia</td>\n",
       "      <td>NaN</td>\n",
       "      <td>162600000.0</td>\n",
       "      <td>India</td>\n",
       "      <td>15600.0</td>\n",
       "      <td>166.0</td>\n",
       "      <td>9.0</td>\n",
       "      <td>http://youtube.com/channel/UCpEhnqL0y41EpW2TvW...</td>\n",
       "    </tr>\n",
       "    <tr>\n",
       "      <th>4</th>\n",
       "      <td>5</td>\n",
       "      <td>KidsDianaShow</td>\n",
       "      <td>Animación, Juguetes</td>\n",
       "      <td>113500000.0</td>\n",
       "      <td>Unknown</td>\n",
       "      <td>3900000.0</td>\n",
       "      <td>12400.0</td>\n",
       "      <td>0.0</td>\n",
       "      <td>http://youtube.com/channel/UCk8GzjMOrta8yxDcKf...</td>\n",
       "    </tr>\n",
       "  </tbody>\n",
       "</table>\n",
       "</div>"
      ],
      "text/plain": [
       "   Rank       Streamer           Categories  Subscribers         Country  \\\n",
       "0     1        tseries       Música y baile  249500000.0           India   \n",
       "1     2        MrBeast   Videojuegos, Humor  183500000.0  Estados Unidos   \n",
       "2     3      CoComelon            Educación  165500000.0         Unknown   \n",
       "3     4       SETIndia                  NaN  162600000.0           India   \n",
       "4     5  KidsDianaShow  Animación, Juguetes  113500000.0         Unknown   \n",
       "\n",
       "        Visits      Likes  Comments  \\\n",
       "0      86200.0     2700.0      78.0   \n",
       "1  117400000.0  5300000.0   18500.0   \n",
       "2    7000000.0    24700.0       0.0   \n",
       "3      15600.0      166.0       9.0   \n",
       "4    3900000.0    12400.0       0.0   \n",
       "\n",
       "                                               Links  \n",
       "0  http://youtube.com/channel/UCq-Fj5jknLsUf-MWSy...  \n",
       "1  http://youtube.com/channel/UCX6OQ3DkcsbYNE6H8u...  \n",
       "2  http://youtube.com/channel/UCbCmjCuTUZos6Inko4...  \n",
       "3  http://youtube.com/channel/UCpEhnqL0y41EpW2TvW...  \n",
       "4  http://youtube.com/channel/UCk8GzjMOrta8yxDcKf...  "
      ]
     },
     "execution_count": 82,
     "metadata": {},
     "output_type": "execute_result"
    }
   ],
   "source": [
    "df.head()"
   ]
  },
  {
   "cell_type": "code",
   "execution_count": 83,
   "id": "9adc19f1-8658-44a5-a0c4-d30e3d045d99",
   "metadata": {},
   "outputs": [
    {
     "data": {
      "text/plain": [
       "21894400.0"
      ]
     },
     "execution_count": 83,
     "metadata": {},
     "output_type": "execute_result"
    }
   ],
   "source": [
    "Avg_subs=df['Subscribers'].mean()\n",
    "Avg_subs"
   ]
  },
  {
   "cell_type": "code",
   "execution_count": 84,
   "id": "138ab11c-900d-41cc-9e07-0ad391c77da3",
   "metadata": {},
   "outputs": [
    {
     "data": {
      "text/plain": [
       "1209446.3155"
      ]
     },
     "execution_count": 84,
     "metadata": {},
     "output_type": "execute_result"
    }
   ],
   "source": [
    "df['Visits'].mean()"
   ]
  },
  {
   "cell_type": "code",
   "execution_count": 85,
   "id": "8b011be7-2446-4a62-b904-364fd8233f8b",
   "metadata": {},
   "outputs": [
    {
     "data": {
      "text/plain": [
       "53632.592"
      ]
     },
     "execution_count": 85,
     "metadata": {},
     "output_type": "execute_result"
    }
   ],
   "source": [
    "df['Likes'].mean()"
   ]
  },
  {
   "cell_type": "code",
   "execution_count": 86,
   "id": "d098dbdd-d00f-4068-bfe1-d8bc786b86cc",
   "metadata": {},
   "outputs": [
    {
     "data": {
      "text/plain": [
       "1288.768"
      ]
     },
     "execution_count": 86,
     "metadata": {},
     "output_type": "execute_result"
    }
   ],
   "source": [
    "df['Comments'].mean()"
   ]
  },
  {
   "cell_type": "code",
   "execution_count": 87,
   "id": "0da81e29-f334-40c2-89c0-c1171bdb9dfd",
   "metadata": {},
   "outputs": [
    {
     "data": {
      "text/plain": [
       "Categories\n",
       "Música y baile               160\n",
       "Películas, Animación          61\n",
       "Música y baile, Películas     41\n",
       "Vlogs diarios                 37\n",
       "Noticias y Política           36\n",
       "Animación, Videojuegos        34\n",
       "Películas, Humor              34\n",
       "Animación, Juguetes           29\n",
       "Animación, Humor              27\n",
       "Educación                     24\n",
       "Películas                     24\n",
       "Animación                     22\n",
       "Videojuegos                   19\n",
       "Videojuegos, Humor            17\n",
       "Música y baile, Animación     16\n",
       "Ciencia y tecnología          14\n",
       "Comida y bebida               12\n",
       "Juguetes                      10\n",
       "Humor                         10\n",
       "Películas, Juguetes            9\n",
       "Name: Streamer, dtype: int64"
      ]
     },
     "execution_count": 87,
     "metadata": {},
     "output_type": "execute_result"
    }
   ],
   "source": [
    "df.groupby('Categories')['Streamer'].count().sort_values(ascending=False).head(20)"
   ]
  },
  {
   "cell_type": "code",
   "execution_count": 88,
   "id": "38ee0c67-a208-4ed4-9fb2-49bc2699b48a",
   "metadata": {},
   "outputs": [
    {
     "data": {
      "text/plain": [
       "0      249500000.0\n",
       "1      183500000.0\n",
       "2      165500000.0\n",
       "3      162600000.0\n",
       "4      113500000.0\n",
       "          ...     \n",
       "298     21900000.0\n",
       "299     21900000.0\n",
       "300     21900000.0\n",
       "301     21900000.0\n",
       "302     21900000.0\n",
       "Name: Subscribers, Length: 303, dtype: float64"
      ]
     },
     "execution_count": 88,
     "metadata": {},
     "output_type": "execute_result"
    }
   ],
   "source": [
    "Most_avg_values = df[df['Subscribers'] > df['Subscribers'].mean()]['Subscribers']\n",
    "Most_avg_values"
   ]
  },
  {
   "cell_type": "code",
   "execution_count": 89,
   "id": "8e4653c8-31c8-45c6-9d67-914bee1bf6b1",
   "metadata": {},
   "outputs": [
    {
     "data": {
      "text/plain": [
       "0      249500000.0\n",
       "1      183500000.0\n",
       "2      165500000.0\n",
       "3      162600000.0\n",
       "4      113500000.0\n",
       "          ...     \n",
       "995     11700000.0\n",
       "996     11700000.0\n",
       "997     11700000.0\n",
       "998     11700000.0\n",
       "999     11700000.0\n",
       "Name: Subscribers, Length: 1000, dtype: float64"
      ]
     },
     "execution_count": 89,
     "metadata": {},
     "output_type": "execute_result"
    }
   ],
   "source": [
    "avg_subscribers_by_Streamer = df.groupby('Streamer')['Subscribers'].transform('mean')\n",
    "avg_subscribers_by_Streamer"
   ]
  },
  {
   "cell_type": "code",
   "execution_count": 90,
   "id": "6e5ae6db-be83-4651-993c-a66ee5c3c99a",
   "metadata": {},
   "outputs": [],
   "source": [
    "df['Subs Greater than avg'] = df['Subscribers'] > avg_subscribers_by_Streamer"
   ]
  },
  {
   "cell_type": "code",
   "execution_count": 91,
   "id": "d6203cfe-3f08-4cba-a811-982f2e916818",
   "metadata": {},
   "outputs": [
    {
     "data": {
      "text/html": [
       "<div>\n",
       "<style scoped>\n",
       "    .dataframe tbody tr th:only-of-type {\n",
       "        vertical-align: middle;\n",
       "    }\n",
       "\n",
       "    .dataframe tbody tr th {\n",
       "        vertical-align: top;\n",
       "    }\n",
       "\n",
       "    .dataframe thead th {\n",
       "        text-align: right;\n",
       "    }\n",
       "</style>\n",
       "<table border=\"1\" class=\"dataframe\">\n",
       "  <thead>\n",
       "    <tr style=\"text-align: right;\">\n",
       "      <th></th>\n",
       "      <th>Rank</th>\n",
       "      <th>Streamer</th>\n",
       "      <th>Categories</th>\n",
       "      <th>Subscribers</th>\n",
       "      <th>Country</th>\n",
       "      <th>Visits</th>\n",
       "      <th>Likes</th>\n",
       "      <th>Comments</th>\n",
       "      <th>Links</th>\n",
       "      <th>Subs Greater than avg</th>\n",
       "    </tr>\n",
       "  </thead>\n",
       "  <tbody>\n",
       "    <tr>\n",
       "      <th>450</th>\n",
       "      <td>451</td>\n",
       "      <td>thexoteam</td>\n",
       "      <td>NaN</td>\n",
       "      <td>17900000.0</td>\n",
       "      <td>Estados Unidos</td>\n",
       "      <td>772800.0</td>\n",
       "      <td>45000.0</td>\n",
       "      <td>185.0</td>\n",
       "      <td>http://youtube.com/channel/UClZAOlfhJQJRym39Wo...</td>\n",
       "      <td>True</td>\n",
       "    </tr>\n",
       "  </tbody>\n",
       "</table>\n",
       "</div>"
      ],
      "text/plain": [
       "     Rank   Streamer Categories  Subscribers         Country    Visits  \\\n",
       "450   451  thexoteam        NaN   17900000.0  Estados Unidos  772800.0   \n",
       "\n",
       "       Likes  Comments                                              Links  \\\n",
       "450  45000.0     185.0  http://youtube.com/channel/UClZAOlfhJQJRym39Wo...   \n",
       "\n",
       "     Subs Greater than avg  \n",
       "450                   True  "
      ]
     },
     "execution_count": 91,
     "metadata": {},
     "output_type": "execute_result"
    }
   ],
   "source": [
    "df_subs_above_avg = df[df['Subs Greater than avg'] == True]\n",
    "df_subs_above_avg"
   ]
  },
  {
   "cell_type": "code",
   "execution_count": 92,
   "id": "2c92c9b3-0ade-4ee5-84a8-7746a0af1a2a",
   "metadata": {},
   "outputs": [
    {
     "data": {
      "text/html": [
       "<div>\n",
       "<style scoped>\n",
       "    .dataframe tbody tr th:only-of-type {\n",
       "        vertical-align: middle;\n",
       "    }\n",
       "\n",
       "    .dataframe tbody tr th {\n",
       "        vertical-align: top;\n",
       "    }\n",
       "\n",
       "    .dataframe thead th {\n",
       "        text-align: right;\n",
       "    }\n",
       "</style>\n",
       "<table border=\"1\" class=\"dataframe\">\n",
       "  <thead>\n",
       "    <tr style=\"text-align: right;\">\n",
       "      <th></th>\n",
       "      <th>Rank</th>\n",
       "      <th>Streamer</th>\n",
       "      <th>Categories</th>\n",
       "      <th>Subscribers</th>\n",
       "      <th>Country</th>\n",
       "      <th>Visits</th>\n",
       "      <th>Likes</th>\n",
       "      <th>Comments</th>\n",
       "      <th>Links</th>\n",
       "      <th>Subs Greater than avg</th>\n",
       "      <th>Likes Greater than avg</th>\n",
       "    </tr>\n",
       "  </thead>\n",
       "  <tbody>\n",
       "    <tr>\n",
       "      <th>447</th>\n",
       "      <td>448</td>\n",
       "      <td>mgcplayhouse</td>\n",
       "      <td>Juguetes, Coches y vehículos</td>\n",
       "      <td>17800000.0</td>\n",
       "      <td>Unknown</td>\n",
       "      <td>56300.0</td>\n",
       "      <td>96.0</td>\n",
       "      <td>0.0</td>\n",
       "      <td>http://youtube.com/channel/UC6zPzUJo8hu-5TzUk8...</td>\n",
       "      <td>False</td>\n",
       "      <td>True</td>\n",
       "    </tr>\n",
       "    <tr>\n",
       "      <th>449</th>\n",
       "      <td>450</td>\n",
       "      <td>thexoteam</td>\n",
       "      <td>NaN</td>\n",
       "      <td>17800000.0</td>\n",
       "      <td>Estados Unidos</td>\n",
       "      <td>797600.0</td>\n",
       "      <td>50400.0</td>\n",
       "      <td>179.0</td>\n",
       "      <td>http://youtube.com/channel/UClZAOlfhJQJRym39Wo...</td>\n",
       "      <td>False</td>\n",
       "      <td>True</td>\n",
       "    </tr>\n",
       "    <tr>\n",
       "      <th>949</th>\n",
       "      <td>950</td>\n",
       "      <td>Family-Box</td>\n",
       "      <td>Películas</td>\n",
       "      <td>12000000.0</td>\n",
       "      <td>Rusia</td>\n",
       "      <td>173600.0</td>\n",
       "      <td>6600.0</td>\n",
       "      <td>105.0</td>\n",
       "      <td>http://youtube.com/channel/UC-jHNWViReG6R_kJ6b...</td>\n",
       "      <td>False</td>\n",
       "      <td>True</td>\n",
       "    </tr>\n",
       "  </tbody>\n",
       "</table>\n",
       "</div>"
      ],
      "text/plain": [
       "     Rank      Streamer                    Categories  Subscribers  \\\n",
       "447   448  mgcplayhouse  Juguetes, Coches y vehículos   17800000.0   \n",
       "449   450     thexoteam                           NaN   17800000.0   \n",
       "949   950    Family-Box                     Películas   12000000.0   \n",
       "\n",
       "            Country    Visits    Likes  Comments  \\\n",
       "447         Unknown   56300.0     96.0       0.0   \n",
       "449  Estados Unidos  797600.0  50400.0     179.0   \n",
       "949           Rusia  173600.0   6600.0     105.0   \n",
       "\n",
       "                                                 Links  Subs Greater than avg  \\\n",
       "447  http://youtube.com/channel/UC6zPzUJo8hu-5TzUk8...                  False   \n",
       "449  http://youtube.com/channel/UClZAOlfhJQJRym39Wo...                  False   \n",
       "949  http://youtube.com/channel/UC-jHNWViReG6R_kJ6b...                  False   \n",
       "\n",
       "     Likes Greater than avg  \n",
       "447                    True  \n",
       "449                    True  \n",
       "949                    True  "
      ]
     },
     "execution_count": 92,
     "metadata": {},
     "output_type": "execute_result"
    }
   ],
   "source": [
    "Most_avg_likes = df[df['Likes'] > df['Likes'].mean()]['Likes']\n",
    "Most_avg_likes\n",
    "avg_likes_by_streamer = df.groupby('Streamer')['Likes'].transform('mean')\n",
    "df['Likes Greater than avg'] = df['Likes'] > avg_likes_by_streamer\n",
    "df_likes_above_avg = df[df['Likes Greater than avg'] == True]\n",
    "df_likes_above_avg"
   ]
  },
  {
   "cell_type": "code",
   "execution_count": 93,
   "id": "8dd2993e-effd-428d-abf3-a1fd9e5dc3a5",
   "metadata": {},
   "outputs": [
    {
     "data": {
      "text/html": [
       "<div>\n",
       "<style scoped>\n",
       "    .dataframe tbody tr th:only-of-type {\n",
       "        vertical-align: middle;\n",
       "    }\n",
       "\n",
       "    .dataframe tbody tr th {\n",
       "        vertical-align: top;\n",
       "    }\n",
       "\n",
       "    .dataframe thead th {\n",
       "        text-align: right;\n",
       "    }\n",
       "</style>\n",
       "<table border=\"1\" class=\"dataframe\">\n",
       "  <thead>\n",
       "    <tr style=\"text-align: right;\">\n",
       "      <th></th>\n",
       "      <th>Rank</th>\n",
       "      <th>Streamer</th>\n",
       "      <th>Categories</th>\n",
       "      <th>Subscribers</th>\n",
       "      <th>Country</th>\n",
       "      <th>Visits</th>\n",
       "      <th>Likes</th>\n",
       "      <th>Comments</th>\n",
       "      <th>Links</th>\n",
       "      <th>Subs Greater than avg</th>\n",
       "      <th>Likes Greater than avg</th>\n",
       "      <th>Visits Greater than avg</th>\n",
       "    </tr>\n",
       "  </thead>\n",
       "  <tbody>\n",
       "    <tr>\n",
       "      <th>449</th>\n",
       "      <td>450</td>\n",
       "      <td>thexoteam</td>\n",
       "      <td>NaN</td>\n",
       "      <td>17800000.0</td>\n",
       "      <td>Estados Unidos</td>\n",
       "      <td>797600.0</td>\n",
       "      <td>50400.0</td>\n",
       "      <td>179.0</td>\n",
       "      <td>http://youtube.com/channel/UClZAOlfhJQJRym39Wo...</td>\n",
       "      <td>False</td>\n",
       "      <td>True</td>\n",
       "      <td>True</td>\n",
       "    </tr>\n",
       "    <tr>\n",
       "      <th>451</th>\n",
       "      <td>452</td>\n",
       "      <td>mgcplayhouse</td>\n",
       "      <td>Juguetes, Coches y vehículos</td>\n",
       "      <td>17800000.0</td>\n",
       "      <td>Unknown</td>\n",
       "      <td>63600.0</td>\n",
       "      <td>75.0</td>\n",
       "      <td>0.0</td>\n",
       "      <td>http://youtube.com/channel/UC6zPzUJo8hu-5TzUk8...</td>\n",
       "      <td>False</td>\n",
       "      <td>False</td>\n",
       "      <td>True</td>\n",
       "    </tr>\n",
       "    <tr>\n",
       "      <th>956</th>\n",
       "      <td>957</td>\n",
       "      <td>Family-Box</td>\n",
       "      <td>Películas</td>\n",
       "      <td>12000000.0</td>\n",
       "      <td>Rusia</td>\n",
       "      <td>177400.0</td>\n",
       "      <td>6300.0</td>\n",
       "      <td>86.0</td>\n",
       "      <td>http://youtube.com/channel/UC-jHNWViReG6R_kJ6b...</td>\n",
       "      <td>False</td>\n",
       "      <td>False</td>\n",
       "      <td>True</td>\n",
       "    </tr>\n",
       "  </tbody>\n",
       "</table>\n",
       "</div>"
      ],
      "text/plain": [
       "     Rank      Streamer                    Categories  Subscribers  \\\n",
       "449   450     thexoteam                           NaN   17800000.0   \n",
       "451   452  mgcplayhouse  Juguetes, Coches y vehículos   17800000.0   \n",
       "956   957    Family-Box                     Películas   12000000.0   \n",
       "\n",
       "            Country    Visits    Likes  Comments  \\\n",
       "449  Estados Unidos  797600.0  50400.0     179.0   \n",
       "451         Unknown   63600.0     75.0       0.0   \n",
       "956           Rusia  177400.0   6300.0      86.0   \n",
       "\n",
       "                                                 Links  Subs Greater than avg  \\\n",
       "449  http://youtube.com/channel/UClZAOlfhJQJRym39Wo...                  False   \n",
       "451  http://youtube.com/channel/UC6zPzUJo8hu-5TzUk8...                  False   \n",
       "956  http://youtube.com/channel/UC-jHNWViReG6R_kJ6b...                  False   \n",
       "\n",
       "     Likes Greater than avg  Visits Greater than avg  \n",
       "449                    True                     True  \n",
       "451                   False                     True  \n",
       "956                   False                     True  "
      ]
     },
     "execution_count": 93,
     "metadata": {},
     "output_type": "execute_result"
    }
   ],
   "source": [
    "Most_avg_visits = df[df['Visits'] > df['Visits'].mean()]['Visits']\n",
    "Most_avg_visits\n",
    "avg_visits_by_streamer = df.groupby('Streamer')['Visits'].transform('mean')\n",
    "df['Visits Greater than avg'] = df['Visits'] > avg_visits_by_streamer\n",
    "df_visits_above_avg = df[df['Visits Greater than avg'] == True]\n",
    "df_visits_above_avg"
   ]
  },
  {
   "cell_type": "code",
   "execution_count": 94,
   "id": "d6394d5b-c8ad-45b4-8f1a-fb749e6fbac7",
   "metadata": {},
   "outputs": [
    {
     "data": {
      "text/html": [
       "<div>\n",
       "<style scoped>\n",
       "    .dataframe tbody tr th:only-of-type {\n",
       "        vertical-align: middle;\n",
       "    }\n",
       "\n",
       "    .dataframe tbody tr th {\n",
       "        vertical-align: top;\n",
       "    }\n",
       "\n",
       "    .dataframe thead th {\n",
       "        text-align: right;\n",
       "    }\n",
       "</style>\n",
       "<table border=\"1\" class=\"dataframe\">\n",
       "  <thead>\n",
       "    <tr style=\"text-align: right;\">\n",
       "      <th></th>\n",
       "      <th>Rank</th>\n",
       "      <th>Streamer</th>\n",
       "      <th>Categories</th>\n",
       "      <th>Subscribers</th>\n",
       "      <th>Country</th>\n",
       "      <th>Visits</th>\n",
       "      <th>Likes</th>\n",
       "      <th>Comments</th>\n",
       "      <th>Links</th>\n",
       "      <th>Subs Greater than avg</th>\n",
       "      <th>Likes Greater than avg</th>\n",
       "      <th>Visits Greater than avg</th>\n",
       "      <th>Comments Greater than avg</th>\n",
       "    </tr>\n",
       "  </thead>\n",
       "  <tbody>\n",
       "    <tr>\n",
       "      <th>450</th>\n",
       "      <td>451</td>\n",
       "      <td>thexoteam</td>\n",
       "      <td>NaN</td>\n",
       "      <td>17900000.0</td>\n",
       "      <td>Estados Unidos</td>\n",
       "      <td>772800.0</td>\n",
       "      <td>45000.0</td>\n",
       "      <td>185.0</td>\n",
       "      <td>http://youtube.com/channel/UClZAOlfhJQJRym39Wo...</td>\n",
       "      <td>True</td>\n",
       "      <td>False</td>\n",
       "      <td>False</td>\n",
       "      <td>True</td>\n",
       "    </tr>\n",
       "    <tr>\n",
       "      <th>949</th>\n",
       "      <td>950</td>\n",
       "      <td>Family-Box</td>\n",
       "      <td>Películas</td>\n",
       "      <td>12000000.0</td>\n",
       "      <td>Rusia</td>\n",
       "      <td>173600.0</td>\n",
       "      <td>6600.0</td>\n",
       "      <td>105.0</td>\n",
       "      <td>http://youtube.com/channel/UC-jHNWViReG6R_kJ6b...</td>\n",
       "      <td>False</td>\n",
       "      <td>True</td>\n",
       "      <td>False</td>\n",
       "      <td>True</td>\n",
       "    </tr>\n",
       "  </tbody>\n",
       "</table>\n",
       "</div>"
      ],
      "text/plain": [
       "     Rank    Streamer Categories  Subscribers         Country    Visits  \\\n",
       "450   451   thexoteam        NaN   17900000.0  Estados Unidos  772800.0   \n",
       "949   950  Family-Box  Películas   12000000.0           Rusia  173600.0   \n",
       "\n",
       "       Likes  Comments                                              Links  \\\n",
       "450  45000.0     185.0  http://youtube.com/channel/UClZAOlfhJQJRym39Wo...   \n",
       "949   6600.0     105.0  http://youtube.com/channel/UC-jHNWViReG6R_kJ6b...   \n",
       "\n",
       "     Subs Greater than avg  Likes Greater than avg  Visits Greater than avg  \\\n",
       "450                   True                   False                    False   \n",
       "949                  False                    True                    False   \n",
       "\n",
       "     Comments Greater than avg  \n",
       "450                       True  \n",
       "949                       True  "
      ]
     },
     "execution_count": 94,
     "metadata": {},
     "output_type": "execute_result"
    }
   ],
   "source": [
    "Most_avg_comments = df[df['Comments'] > df['Comments'].mean()]['Comments']\n",
    "Most_avg_comments\n",
    "avg_comments_by_streamer = df.groupby('Streamer')['Comments'].transform('mean')\n",
    "df['Comments Greater than avg'] = df['Comments'] > avg_comments_by_streamer\n",
    "df_comments_above_avg = df[df['Comments Greater than avg'] == True]\n",
    "df_comments_above_avg"
   ]
  },
  {
   "cell_type": "code",
   "execution_count": 96,
   "id": "639eb784-9e4f-43be-8a91-98bde0ffe1ca",
   "metadata": {},
   "outputs": [],
   "source": [
    "columns_to_replace = ['Subs Greater than avg','Likes Greater than avg','Visits Greater than avg','Comments Greater than avg']\n",
    "for column in columns_to_replace:\n",
    "    df[column] = df[column].replace({True:1, False:0})"
   ]
  },
  {
   "cell_type": "code",
   "execution_count": 97,
   "id": "b261afdd-a59e-4630-b2e6-a0b2a212748e",
   "metadata": {},
   "outputs": [
    {
     "data": {
      "image/png": "[encoded data removed]",
      "text/plain": [
       "<Figure size 640x480 with 1 Axes>"
      ]
     },
     "metadata": {},
     "output_type": "display_data"
    }
   ],
   "source": [
    "import seaborn as sns\n",
    "import matplotlib.pyplot as plt\n",
    "\n",
    "columns_to_plot = ['Subscribers','Likes','Visits','Comments']\n",
    "sns.barplot(data=df[columns_to_plot])\n",
    "plt.title('Boxplot for detecting outliers')\n",
    "plt.xlabel('Columns')\n",
    "plt.ylabel('Values')\n",
    "plt.show()"
   ]
  },
  {
   "cell_type": "code",
   "execution_count": 98,
   "id": "af0c3a13-f612-4b08-b7a5-7ffcd371c995",
   "metadata": {},
   "outputs": [
    {
     "name": "stderr",
     "output_type": "stream",
     "text": [
      "C:\\Users\\priya\\AppData\\Local\\Temp\\ipykernel_7172\\823478856.py:6: FutureWarning: \n",
      "\n",
      "Passing `palette` without assigning `hue` is deprecated and will be removed in v0.14.0. Assign the `y` variable to `hue` and set `legend=False` for the same effect.\n",
      "\n",
      "  sns.barplot(x=subscribers,y=categories,palette='viridis')\n"
     ]
    },
    {
     "data": {
      "image/png": "[encoded data removed]",
      "text/plain": [
       "<Figure size 1000x600 with 1 Axes>"
      ]
     },
     "metadata": {},
     "output_type": "display_data"
    }
   ],
   "source": [
    "subscribers = ['tseries','MrBeast','CoComelon','SETIndia','KidsDianaShow','PewDiePie','LikeNastyaofficial','VladandNiki','zeemusiccompany','WWE']\n",
    "categories = ['Música y baile','Videojuegos, Humor','Educación','NaN','Animación, Juguetes','Películas, Videojuegos','Juguetes','Animación, Juguetes','Música y baile','Videojuegos']\n",
    "subscribers = [249500000.0,183500000.0,165500000.0,162600000.0,113500000.0,111500000.0,107500000.0,101400000.0,99700000.0,97200000.0]\n",
    "country = ['India','Estados Unidos','Unknown','India','Unknown','Estados Unidos','Unknown','Unknown','India','Estados Unidos']\n",
    "plt.figure(figsize=(10, 6))\n",
    "sns.barplot(x=subscribers,y=categories,palette='viridis')\n",
    "\n",
    "plt.title('Subscriber Distribution by Category')\n",
    "plt.xlabel('Subscribers (in millions)')\n",
    "plt.ylabel('category')\n",
    "plt.show()"
   ]
  },
  {
   "cell_type": "code",
   "execution_count": 99,
   "id": "943ec781-56c4-41f4-9706-5943100d746d",
   "metadata": {},
   "outputs": [
    {
     "data": {
      "image/png": "[encoded data removed]",
      "text/plain": [
       "<Figure size 800x800 with 1 Axes>"
      ]
     },
     "metadata": {},
     "output_type": "display_data"
    }
   ],
   "source": [
    "plt.figure(figsize=(8, 8))\n",
    "plt.pie(subscribers, labels=country, autopct='%1.1f%%', startangle=140)\n",
    "plt.title('Country-wise Subscriber Counts')\n",
    "plt.axis('equal')\n",
    "plt.show()"
   ]
  },
  {
   "cell_type": "code",
   "execution_count": 115,
   "id": "ac554c51-eab3-45e3-9686-e864998689cf",
   "metadata": {},
   "outputs": [
    {
     "data": {
      "image/png": "[encoded data removed]",
      "text/plain": [
       "<Figure size 800x600 with 1 Axes>"
      ]
     },
     "metadata": {},
     "output_type": "display_data"
    }
   ],
   "source": [
    "plt.figure(figsize=(8, 6))\n",
    "plt.scatter('subscribers', 'visits', color='purple')\n",
    "plt.title('Subscriber vs. Visits Relationship')\n",
    "plt.xlabel('Subscribers (in millions)')\n",
    "plt.ylabel('Visits')\n",
    "plt.show()"
   ]
  },
  {
   "cell_type": "code",
   "execution_count": 116,
   "id": "b963fe3f-1423-4895-80d1-ff28a74c9877",
   "metadata": {},
   "outputs": [
    {
     "data": {
      "text/plain": [
       "Streamer            Links                                              \n",
       "tseries             http://youtube.com/channel/UCq-Fj5jknLsUf-MWSy4_brA    249500000.0\n",
       "MrBeast             http://youtube.com/channel/UCX6OQ3DkcsbYNE6H8uQQuVA    183500000.0\n",
       "CoComelon           http://youtube.com/channel/UCbCmjCuTUZos6Inko4u57UQ    165500000.0\n",
       "SETIndia            http://youtube.com/channel/UCpEhnqL0y41EpW2TvWAHD7Q    162600000.0\n",
       "KidsDianaShow       http://youtube.com/channel/UCk8GzjMOrta8yxDcKfylJYw    113500000.0\n",
       "PewDiePie           http://youtube.com/channel/UC-lHJZR3Gqxm24_Vd_AJ5Yw    111500000.0\n",
       "LikeNastyaofficial  http://youtube.com/channel/UCJplp5SjeGSdVdwsfb9Q7lQ    107500000.0\n",
       "VladandNiki         http://youtube.com/channel/UCvlE5gTbOvjiolFlEm-c_Ow    101400000.0\n",
       "zeemusiccompany     http://youtube.com/channel/UCFFbwnve3yF62-tVXkTyHqg     99700000.0\n",
       "WWE                 http://youtube.com/channel/UCJ5v_MCY6GNUBTO8-D3XoAg     97200000.0\n",
       "Name: Subscribers, dtype: float64"
      ]
     },
     "execution_count": 116,
     "metadata": {},
     "output_type": "execute_result"
    }
   ],
   "source": [
    "df.groupby(['Streamer','Links'])['Subscribers'].sum().sort_values(ascending=False).head(10)"
   ]
  },
  {
   "cell_type": "code",
   "execution_count": null,
   "id": "eac684e2-5d56-463d-80e8-2048706f11b5",
   "metadata": {},
   "outputs": [],
   "source": []
  }
 ],
 "metadata": {
  "kernelspec": {
   "display_name": "Python 3 (ipykernel)",
   "language": "python",
   "name": "python3"
  },
  "language_info": {
   "codemirror_mode": {
    "name": "ipython",
    "version": 3
   },
   "file_extension": ".py",
   "mimetype": "text/x-python",
   "name": "python",
   "nbconvert_exporter": "python",
   "pygments_lexer": "ipython3",
   "version": "3.12.3"
  }
 },
 "nbformat": 4,
 "nbformat_minor": 5
}
